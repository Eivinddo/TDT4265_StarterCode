{
 "cells": [
  {
   "cell_type": "markdown",
   "metadata": {},
   "source": [
    "### Temp project Report"
   ]
  },
  {
   "cell_type": "markdown",
   "metadata": {},
   "source": [
    "### Task 2.1)\n",
    "\n",
    "Conv2D is a kernal of size 3x3, with stride=1 and padding=1 <br/>\n",
    "Conv2D* is a kernal of size 2x2, with stride=2 and padding=0 <br/>\n",
    "Conv2D** is a kernal of size 4x4, with stride=2 and padding=1 <br/>\n",
    "\n",
    "\n",
    "| Layer | Layer Type        | Number of hidden units / Number of Filters | Activation function | \n",
    "|-------|-------------------|--------------------------------------------|---------------------|\n",
    "| 1     | Conv2D            | 32                                         | ReLU                | \n",
    "| 1     | MaxPool2D         | 32                                         | -                   | \n",
    "| 1     | Conv2D            | 64                                         | ReLU                | \n",
    "| 1     | Conv2D*           | 64                                         | ReLU                |\n",
    "| 2     | Conv2D            | 128                                        | ReLU                | \n",
    "| 2     | Conv2D**          | 128                                        | ReLU                | \n",
    "| 3     | Conv2D            | 256                                        | ReLU                | \n",
    "| 3     | Conv2D**          | 256                                        | ReLU                | \n",
    "| 4     | Conv2D            | 128                                        | ReLU                | \n",
    "| 4     | Conv2D**          | 128                                        | ReLU                | \n",
    "| 5     | Conv2D            | 128                                        | ReLU                | \n",
    "| 5     | Conv2D*           | 128                                        | ReLU                | \n",
    "| 6     | Conv2D            | 128                                        | ReLU                | \n",
    "| 6     | Conv2D*           | 128                                        | ReLU                |  \n",
    "\n",
    "\n"
   ]
  },
  {
   "cell_type": "markdown",
   "metadata": {},
   "source": [
    "## Task 2.2)\n",
    "\n",
    "Currently implemented the predefined transformations :\n",
    "- Horizonatal flipping\n",
    "- Cropping"
   ]
  }
 ],
 "metadata": {
  "interpreter": {
   "hash": "1c5afc468245e74b713b23b3a003745497f852dc3d231dab159be2ce194aabdc"
  },
  "kernelspec": {
   "display_name": "Python 3.8.1 64-bit ('py38': conda)",
   "language": "python",
   "name": "python3"
  },
  "language_info": {
   "codemirror_mode": {
    "name": "ipython",
    "version": 3
   },
   "file_extension": ".py",
   "mimetype": "text/x-python",
   "name": "python",
   "nbconvert_exporter": "python",
   "pygments_lexer": "ipython3",
   "version": "3.6.10"
  }
 },
 "nbformat": 4,
 "nbformat_minor": 4
}
